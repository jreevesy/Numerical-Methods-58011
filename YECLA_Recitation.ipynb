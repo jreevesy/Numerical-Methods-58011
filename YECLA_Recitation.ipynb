{
  "nbformat": 4,
  "nbformat_minor": 0,
  "metadata": {
    "colab": {
      "name": "YECLA_Recitation",
      "provenance": [],
      "authorship_tag": "ABX9TyNTkILTiqhGfZ1Xf2nIZI2S",
      "include_colab_link": true
    },
    "kernelspec": {
      "name": "python3",
      "display_name": "Python 3"
    },
    "language_info": {
      "name": "python"
    }
  },
  "cells": [
    {
      "cell_type": "markdown",
      "metadata": {
        "id": "view-in-github",
        "colab_type": "text"
      },
      "source": [
        "<a href=\"https://colab.research.google.com/github/jreevesy/Numerical-Methods-58011/blob/main/YECLA_Recitation.ipynb\" target=\"_parent\"><img src=\"https://colab.research.google.com/assets/colab-badge.svg\" alt=\"Open In Colab\"/></a>"
      ]
    },
    {
      "cell_type": "code",
      "execution_count": 1,
      "metadata": {
        "id": "oyFtGFIkF-Lr"
      },
      "outputs": [],
      "source": [
        "import numpy as np \n",
        "\n",
        "def new(x): #save as integral 2\n",
        "  return 0.2+25*x-200*x**2+675*x**3-900*x**4+400*x**5\n",
        "\n",
        "a = 0\n",
        "b = 0.8\n",
        "n = 999\n",
        "h = (b - a) / n #width of the trapezoid\n",
        "S = h*(new(a)+new(b))    #beginning value of summation\n",
        "\n",
        "for  i in np.arange(0, 0.2, 0.000019):\n",
        "    S += new(a+i*h)"
      ]
    }
  ]
}