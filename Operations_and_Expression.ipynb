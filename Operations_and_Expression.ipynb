{
  "nbformat": 4,
  "nbformat_minor": 0,
  "metadata": {
    "colab": {
      "name": "Operations and Expression.ipynb",
      "provenance": [],
      "collapsed_sections": [],
      "authorship_tag": "ABX9TyPb4wRVWrhqksYn9+0aUpVt",
      "include_colab_link": true
    },
    "kernelspec": {
      "name": "python3",
      "display_name": "Python 3"
    },
    "language_info": {
      "name": "python"
    }
  },
  "cells": [
    {
      "cell_type": "markdown",
      "metadata": {
        "id": "view-in-github",
        "colab_type": "text"
      },
      "source": [
        "<a href=\"https://colab.research.google.com/github/jreevesy/Numerical-Methods-58011/blob/main/Operations_and_Expression.ipynb\" target=\"_parent\"><img src=\"https://colab.research.google.com/assets/colab-badge.svg\" alt=\"Open In Colab\"/></a>"
      ]
    },
    {
      "cell_type": "markdown",
      "source": [
        "##Boolean Operators\n"
      ],
      "metadata": {
        "id": "cs7dOMJuJ7eG"
      }
    },
    {
      "cell_type": "code",
      "source": [
        "print(10 > 9) #Boolean is answerable by true or false\n",
        "print (10 < 9)\n",
        "print (10 == 9)"
      ],
      "metadata": {
        "colab": {
          "base_uri": "https://localhost:8080/"
        },
        "id": "svKXLGlRKBoT",
        "outputId": "5620cdab-da26-4294-dbbc-9c63b8222d50"
      },
      "execution_count": null,
      "outputs": [
        {
          "output_type": "stream",
          "name": "stdout",
          "text": [
            "True\n",
            "False\n",
            "False\n"
          ]
        }
      ]
    },
    {
      "cell_type": "code",
      "source": [
        "#other way\n",
        "\n",
        "a = 10\n",
        "b = 9\n",
        "\n",
        "print (a > b)\n",
        "print (a < b)\n",
        "print (a == b)\n"
      ],
      "metadata": {
        "colab": {
          "base_uri": "https://localhost:8080/"
        },
        "id": "9ZEgPg8DKn0T",
        "outputId": "f6b2c30a-3170-42f7-db72-4fe4d22c909d"
      },
      "execution_count": null,
      "outputs": [
        {
          "output_type": "stream",
          "name": "stdout",
          "text": [
            "True\n",
            "False\n",
            "False\n"
          ]
        }
      ]
    },
    {
      "cell_type": "markdown",
      "source": [
        "##Bool Function"
      ],
      "metadata": {
        "id": "sOMXTlisLFwi"
      }
    },
    {
      "cell_type": "code",
      "source": [
        "print (bool(5))\n",
        "print (bool(\"Reeves\"))\n",
        "\n",
        "print (bool(0))\n",
        "print (bool(1))\n",
        "\n",
        "print (bool(None))\n",
        "print (bool([]))"
      ],
      "metadata": {
        "colab": {
          "base_uri": "https://localhost:8080/"
        },
        "id": "2mdSVVaCLIkC",
        "outputId": "bd203d6c-c57c-4154-900c-4dc902c832c3"
      },
      "execution_count": null,
      "outputs": [
        {
          "output_type": "stream",
          "name": "stdout",
          "text": [
            "True\n",
            "True\n",
            "False\n",
            "True\n",
            "False\n",
            "False\n"
          ]
        }
      ]
    },
    {
      "cell_type": "markdown",
      "source": [
        "##Functions can return a Boolean "
      ],
      "metadata": {
        "id": "ydOdZuyWLuMU"
      }
    },
    {
      "cell_type": "code",
      "source": [
        "def myFunction ():\n",
        "  return True\n",
        "\n",
        "print (myFunction())"
      ],
      "metadata": {
        "colab": {
          "base_uri": "https://localhost:8080/"
        },
        "id": "6hrSOcqXLzGm",
        "outputId": "0c849673-9abe-460e-e36c-6728079d24a1"
      },
      "execution_count": null,
      "outputs": [
        {
          "output_type": "stream",
          "name": "stdout",
          "text": [
            "True\n"
          ]
        }
      ]
    },
    {
      "cell_type": "code",
      "source": [
        "def myFunction ():\n",
        "  return False\n",
        "\n",
        "print (myFunction())"
      ],
      "metadata": {
        "colab": {
          "base_uri": "https://localhost:8080/"
        },
        "id": "sFICHO-uMmUb",
        "outputId": "90b34368-0ee3-432f-f99f-69ea0ce89135"
      },
      "execution_count": null,
      "outputs": [
        {
          "output_type": "stream",
          "name": "stdout",
          "text": [
            "False\n"
          ]
        }
      ]
    },
    {
      "cell_type": "code",
      "source": [
        "if myFunction ():\n",
        "  print(\"yes\")\n",
        "else:\n",
        "  print(\"no\")"
      ],
      "metadata": {
        "colab": {
          "base_uri": "https://localhost:8080/"
        },
        "id": "u9zbRb9IMQCq",
        "outputId": "169930ef-9b11-4fc2-ec36-dce72c8967ad"
      },
      "execution_count": null,
      "outputs": [
        {
          "output_type": "stream",
          "name": "stdout",
          "text": [
            "yes\n"
          ]
        }
      ]
    },
    {
      "cell_type": "markdown",
      "source": [
        "##Application 1"
      ],
      "metadata": {
        "id": "l2qsjnw_MtKL"
      }
    },
    {
      "cell_type": "code",
      "source": [
        "a = 6\n",
        "b = 7\n",
        "\n",
        "print (a==b)\n",
        "print (a!=a)"
      ],
      "metadata": {
        "colab": {
          "base_uri": "https://localhost:8080/"
        },
        "id": "WOdnQuAbMygc",
        "outputId": "d357f467-ece8-47cf-b8a0-f3cb7bef5b7b"
      },
      "execution_count": null,
      "outputs": [
        {
          "output_type": "stream",
          "name": "stdout",
          "text": [
            "False\n",
            "False\n"
          ]
        }
      ]
    },
    {
      "cell_type": "code",
      "source": [
        "a = 6\n",
        "b = 7\n",
        "\n",
        "print (bool(a==b))\n",
        "print (bool(a!=a))"
      ],
      "metadata": {
        "colab": {
          "base_uri": "https://localhost:8080/"
        },
        "id": "fsmd-VngNzqc",
        "outputId": "d757cd4b-c1d1-4405-bf00-496654bb28e4"
      },
      "execution_count": null,
      "outputs": [
        {
          "output_type": "stream",
          "name": "stdout",
          "text": [
            "False\n",
            "False\n"
          ]
        }
      ]
    },
    {
      "cell_type": "markdown",
      "source": [
        "##Python Operators"
      ],
      "metadata": {
        "id": "I2N3m33ZORmz"
      }
    },
    {
      "cell_type": "code",
      "source": [
        "print (10+9)\n",
        "print (10-9)\n",
        "print (10*2)\n",
        "print (10/2)\n",
        "print (10**2)"
      ],
      "metadata": {
        "colab": {
          "base_uri": "https://localhost:8080/"
        },
        "id": "9CZIq90TOTvb",
        "outputId": "791eed76-3525-4475-de0d-f12a4c5639d0"
      },
      "execution_count": null,
      "outputs": [
        {
          "output_type": "stream",
          "name": "stdout",
          "text": [
            "19\n",
            "1\n",
            "20\n",
            "5.0\n",
            "100\n"
          ]
        }
      ]
    },
    {
      "cell_type": "markdown",
      "source": [
        "##Python Bitwise Operators"
      ],
      "metadata": {
        "id": "ls4uKv-OPdVa"
      }
    },
    {
      "cell_type": "code",
      "source": [
        "a = 60\n",
        "b = 13\n",
        "\n",
        "print (a&b)\n",
        "print (a|b)"
      ],
      "metadata": {
        "colab": {
          "base_uri": "https://localhost:8080/"
        },
        "id": "negEWCiWPfqq",
        "outputId": "5f5ef1fe-f5c6-4296-e108-d393db8f3ba9"
      },
      "execution_count": null,
      "outputs": [
        {
          "output_type": "stream",
          "name": "stdout",
          "text": [
            "12\n",
            "61\n"
          ]
        }
      ]
    },
    {
      "cell_type": "markdown",
      "source": [
        "##Python Assignment Operators"
      ],
      "metadata": {
        "id": "DDIvcZVkQKCr"
      }
    },
    {
      "cell_type": "code",
      "source": [
        "a = 60\n",
        "b = 13\n",
        "\n",
        "a+=3 #The same as a=a+3\n",
        "print (a)"
      ],
      "metadata": {
        "colab": {
          "base_uri": "https://localhost:8080/"
        },
        "id": "9CdIWDqMQOUb",
        "outputId": "aeab9cd0-7b03-482e-e2cd-c955c1db5ec3"
      },
      "execution_count": null,
      "outputs": [
        {
          "output_type": "stream",
          "name": "stdout",
          "text": [
            "63\n"
          ]
        }
      ]
    },
    {
      "cell_type": "markdown",
      "source": [
        "##Logical Operators"
      ],
      "metadata": {
        "id": "wOajuzmpRA27"
      }
    },
    {
      "cell_type": "code",
      "source": [
        "a = True\n",
        "b = False\n",
        "\n",
        "(a and b)\n",
        "not (a or b) #yung last operation yung lalabas unless lalagyan mo ng print "
      ],
      "metadata": {
        "colab": {
          "base_uri": "https://localhost:8080/"
        },
        "id": "5hArMICARCnk",
        "outputId": "eb57f381-e48c-43ee-e485-ebe834eae5c1"
      },
      "execution_count": null,
      "outputs": [
        {
          "output_type": "execute_result",
          "data": {
            "text/plain": [
              "False"
            ]
          },
          "metadata": {},
          "execution_count": 40
        }
      ]
    },
    {
      "cell_type": "markdown",
      "source": [
        "#Identity Operators"
      ],
      "metadata": {
        "id": "QuWIR1joRkoz"
      }
    },
    {
      "cell_type": "code",
      "source": [
        "a is not b"
      ],
      "metadata": {
        "colab": {
          "base_uri": "https://localhost:8080/"
        },
        "id": "0uYOuYYfRoJy",
        "outputId": "a7aad5ce-c9ec-41f8-d883-26b9e6dd05ac"
      },
      "execution_count": null,
      "outputs": [
        {
          "output_type": "execute_result",
          "data": {
            "text/plain": [
              "True"
            ]
          },
          "metadata": {},
          "execution_count": 41
        }
      ]
    }
  ]
}